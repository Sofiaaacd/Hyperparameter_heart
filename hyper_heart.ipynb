{
 "cells": [
  {
   "cell_type": "markdown",
   "id": "94a71af3",
   "metadata": {},
   "source": [
    "# **Ajuste de Hiperparámetros para el DataSet \"Enfermedades Cardíacas de UCI\":**"
   ]
  },
  {
   "cell_type": "markdown",
   "id": "e674cea5",
   "metadata": {},
   "source": [
    "## 1. Carga y exploración del dataset"
   ]
  },
  {
   "cell_type": "code",
   "execution_count": 5,
   "id": "c8165113",
   "metadata": {},
   "outputs": [],
   "source": [
    "import pandas as pd\n",
    "\n",
    "# Cargamos el dataset\n",
    "df = pd.read_csv(\"heart.csv\")\n"
   ]
  },
  {
   "cell_type": "code",
   "execution_count": 6,
   "id": "a31171a0",
   "metadata": {},
   "outputs": [
    {
     "name": "stdout",
     "output_type": "stream",
     "text": [
      "Primeras filas del dataset:\n"
     ]
    },
    {
     "data": {
      "text/html": [
       "<div>\n",
       "<style scoped>\n",
       "    .dataframe tbody tr th:only-of-type {\n",
       "        vertical-align: middle;\n",
       "    }\n",
       "\n",
       "    .dataframe tbody tr th {\n",
       "        vertical-align: top;\n",
       "    }\n",
       "\n",
       "    .dataframe thead th {\n",
       "        text-align: right;\n",
       "    }\n",
       "</style>\n",
       "<table border=\"1\" class=\"dataframe\">\n",
       "  <thead>\n",
       "    <tr style=\"text-align: right;\">\n",
       "      <th></th>\n",
       "      <th>Age</th>\n",
       "      <th>Sex</th>\n",
       "      <th>ChestPainType</th>\n",
       "      <th>RestingBP</th>\n",
       "      <th>Cholesterol</th>\n",
       "      <th>FastingBS</th>\n",
       "      <th>RestingECG</th>\n",
       "      <th>MaxHR</th>\n",
       "      <th>ExerciseAngina</th>\n",
       "      <th>Oldpeak</th>\n",
       "      <th>ST_Slope</th>\n",
       "      <th>HeartDisease</th>\n",
       "    </tr>\n",
       "  </thead>\n",
       "  <tbody>\n",
       "    <tr>\n",
       "      <th>0</th>\n",
       "      <td>40</td>\n",
       "      <td>M</td>\n",
       "      <td>ATA</td>\n",
       "      <td>140</td>\n",
       "      <td>289</td>\n",
       "      <td>0</td>\n",
       "      <td>Normal</td>\n",
       "      <td>172</td>\n",
       "      <td>N</td>\n",
       "      <td>0.0</td>\n",
       "      <td>Up</td>\n",
       "      <td>0</td>\n",
       "    </tr>\n",
       "    <tr>\n",
       "      <th>1</th>\n",
       "      <td>49</td>\n",
       "      <td>F</td>\n",
       "      <td>NAP</td>\n",
       "      <td>160</td>\n",
       "      <td>180</td>\n",
       "      <td>0</td>\n",
       "      <td>Normal</td>\n",
       "      <td>156</td>\n",
       "      <td>N</td>\n",
       "      <td>1.0</td>\n",
       "      <td>Flat</td>\n",
       "      <td>1</td>\n",
       "    </tr>\n",
       "    <tr>\n",
       "      <th>2</th>\n",
       "      <td>37</td>\n",
       "      <td>M</td>\n",
       "      <td>ATA</td>\n",
       "      <td>130</td>\n",
       "      <td>283</td>\n",
       "      <td>0</td>\n",
       "      <td>ST</td>\n",
       "      <td>98</td>\n",
       "      <td>N</td>\n",
       "      <td>0.0</td>\n",
       "      <td>Up</td>\n",
       "      <td>0</td>\n",
       "    </tr>\n",
       "    <tr>\n",
       "      <th>3</th>\n",
       "      <td>48</td>\n",
       "      <td>F</td>\n",
       "      <td>ASY</td>\n",
       "      <td>138</td>\n",
       "      <td>214</td>\n",
       "      <td>0</td>\n",
       "      <td>Normal</td>\n",
       "      <td>108</td>\n",
       "      <td>Y</td>\n",
       "      <td>1.5</td>\n",
       "      <td>Flat</td>\n",
       "      <td>1</td>\n",
       "    </tr>\n",
       "    <tr>\n",
       "      <th>4</th>\n",
       "      <td>54</td>\n",
       "      <td>M</td>\n",
       "      <td>NAP</td>\n",
       "      <td>150</td>\n",
       "      <td>195</td>\n",
       "      <td>0</td>\n",
       "      <td>Normal</td>\n",
       "      <td>122</td>\n",
       "      <td>N</td>\n",
       "      <td>0.0</td>\n",
       "      <td>Up</td>\n",
       "      <td>0</td>\n",
       "    </tr>\n",
       "  </tbody>\n",
       "</table>\n",
       "</div>"
      ],
      "text/plain": [
       "   Age Sex ChestPainType  RestingBP  Cholesterol  FastingBS RestingECG  MaxHR  \\\n",
       "0   40   M           ATA        140          289          0     Normal    172   \n",
       "1   49   F           NAP        160          180          0     Normal    156   \n",
       "2   37   M           ATA        130          283          0         ST     98   \n",
       "3   48   F           ASY        138          214          0     Normal    108   \n",
       "4   54   M           NAP        150          195          0     Normal    122   \n",
       "\n",
       "  ExerciseAngina  Oldpeak ST_Slope  HeartDisease  \n",
       "0              N      0.0       Up             0  \n",
       "1              N      1.0     Flat             1  \n",
       "2              N      0.0       Up             0  \n",
       "3              Y      1.5     Flat             1  \n",
       "4              N      0.0       Up             0  "
      ]
     },
     "metadata": {},
     "output_type": "display_data"
    }
   ],
   "source": [
    "#  Revisamos las primeras filas del dataset\n",
    "print(\"Primeras filas del dataset:\")\n",
    "display(df.head())"
   ]
  },
  {
   "cell_type": "code",
   "execution_count": 7,
   "id": "5b639b85",
   "metadata": {},
   "outputs": [
    {
     "name": "stdout",
     "output_type": "stream",
     "text": [
      "\n",
      "Información del dataset:\n",
      "<class 'pandas.core.frame.DataFrame'>\n",
      "RangeIndex: 918 entries, 0 to 917\n",
      "Data columns (total 12 columns):\n",
      " #   Column          Non-Null Count  Dtype  \n",
      "---  ------          --------------  -----  \n",
      " 0   Age             918 non-null    int64  \n",
      " 1   Sex             918 non-null    object \n",
      " 2   ChestPainType   918 non-null    object \n",
      " 3   RestingBP       918 non-null    int64  \n",
      " 4   Cholesterol     918 non-null    int64  \n",
      " 5   FastingBS       918 non-null    int64  \n",
      " 6   RestingECG      918 non-null    object \n",
      " 7   MaxHR           918 non-null    int64  \n",
      " 8   ExerciseAngina  918 non-null    object \n",
      " 9   Oldpeak         918 non-null    float64\n",
      " 10  ST_Slope        918 non-null    object \n",
      " 11  HeartDisease    918 non-null    int64  \n",
      "dtypes: float64(1), int64(6), object(5)\n",
      "memory usage: 86.2+ KB\n"
     ]
    }
   ],
   "source": [
    "# Información general del dataset\n",
    "print(\"\\nInformación del dataset:\")\n",
    "df.info()"
   ]
  },
  {
   "cell_type": "code",
   "execution_count": 8,
   "id": "0165afa6",
   "metadata": {},
   "outputs": [
    {
     "name": "stdout",
     "output_type": "stream",
     "text": [
      "\n",
      "Estadísticas descriptivas:\n"
     ]
    },
    {
     "data": {
      "text/html": [
       "<div>\n",
       "<style scoped>\n",
       "    .dataframe tbody tr th:only-of-type {\n",
       "        vertical-align: middle;\n",
       "    }\n",
       "\n",
       "    .dataframe tbody tr th {\n",
       "        vertical-align: top;\n",
       "    }\n",
       "\n",
       "    .dataframe thead th {\n",
       "        text-align: right;\n",
       "    }\n",
       "</style>\n",
       "<table border=\"1\" class=\"dataframe\">\n",
       "  <thead>\n",
       "    <tr style=\"text-align: right;\">\n",
       "      <th></th>\n",
       "      <th>Age</th>\n",
       "      <th>RestingBP</th>\n",
       "      <th>Cholesterol</th>\n",
       "      <th>FastingBS</th>\n",
       "      <th>MaxHR</th>\n",
       "      <th>Oldpeak</th>\n",
       "      <th>HeartDisease</th>\n",
       "    </tr>\n",
       "  </thead>\n",
       "  <tbody>\n",
       "    <tr>\n",
       "      <th>count</th>\n",
       "      <td>918.000000</td>\n",
       "      <td>918.000000</td>\n",
       "      <td>918.000000</td>\n",
       "      <td>918.000000</td>\n",
       "      <td>918.000000</td>\n",
       "      <td>918.000000</td>\n",
       "      <td>918.000000</td>\n",
       "    </tr>\n",
       "    <tr>\n",
       "      <th>mean</th>\n",
       "      <td>53.510893</td>\n",
       "      <td>132.396514</td>\n",
       "      <td>198.799564</td>\n",
       "      <td>0.233115</td>\n",
       "      <td>136.809368</td>\n",
       "      <td>0.887364</td>\n",
       "      <td>0.553377</td>\n",
       "    </tr>\n",
       "    <tr>\n",
       "      <th>std</th>\n",
       "      <td>9.432617</td>\n",
       "      <td>18.514154</td>\n",
       "      <td>109.384145</td>\n",
       "      <td>0.423046</td>\n",
       "      <td>25.460334</td>\n",
       "      <td>1.066570</td>\n",
       "      <td>0.497414</td>\n",
       "    </tr>\n",
       "    <tr>\n",
       "      <th>min</th>\n",
       "      <td>28.000000</td>\n",
       "      <td>0.000000</td>\n",
       "      <td>0.000000</td>\n",
       "      <td>0.000000</td>\n",
       "      <td>60.000000</td>\n",
       "      <td>-2.600000</td>\n",
       "      <td>0.000000</td>\n",
       "    </tr>\n",
       "    <tr>\n",
       "      <th>25%</th>\n",
       "      <td>47.000000</td>\n",
       "      <td>120.000000</td>\n",
       "      <td>173.250000</td>\n",
       "      <td>0.000000</td>\n",
       "      <td>120.000000</td>\n",
       "      <td>0.000000</td>\n",
       "      <td>0.000000</td>\n",
       "    </tr>\n",
       "    <tr>\n",
       "      <th>50%</th>\n",
       "      <td>54.000000</td>\n",
       "      <td>130.000000</td>\n",
       "      <td>223.000000</td>\n",
       "      <td>0.000000</td>\n",
       "      <td>138.000000</td>\n",
       "      <td>0.600000</td>\n",
       "      <td>1.000000</td>\n",
       "    </tr>\n",
       "    <tr>\n",
       "      <th>75%</th>\n",
       "      <td>60.000000</td>\n",
       "      <td>140.000000</td>\n",
       "      <td>267.000000</td>\n",
       "      <td>0.000000</td>\n",
       "      <td>156.000000</td>\n",
       "      <td>1.500000</td>\n",
       "      <td>1.000000</td>\n",
       "    </tr>\n",
       "    <tr>\n",
       "      <th>max</th>\n",
       "      <td>77.000000</td>\n",
       "      <td>200.000000</td>\n",
       "      <td>603.000000</td>\n",
       "      <td>1.000000</td>\n",
       "      <td>202.000000</td>\n",
       "      <td>6.200000</td>\n",
       "      <td>1.000000</td>\n",
       "    </tr>\n",
       "  </tbody>\n",
       "</table>\n",
       "</div>"
      ],
      "text/plain": [
       "              Age   RestingBP  Cholesterol   FastingBS       MaxHR  \\\n",
       "count  918.000000  918.000000   918.000000  918.000000  918.000000   \n",
       "mean    53.510893  132.396514   198.799564    0.233115  136.809368   \n",
       "std      9.432617   18.514154   109.384145    0.423046   25.460334   \n",
       "min     28.000000    0.000000     0.000000    0.000000   60.000000   \n",
       "25%     47.000000  120.000000   173.250000    0.000000  120.000000   \n",
       "50%     54.000000  130.000000   223.000000    0.000000  138.000000   \n",
       "75%     60.000000  140.000000   267.000000    0.000000  156.000000   \n",
       "max     77.000000  200.000000   603.000000    1.000000  202.000000   \n",
       "\n",
       "          Oldpeak  HeartDisease  \n",
       "count  918.000000    918.000000  \n",
       "mean     0.887364      0.553377  \n",
       "std      1.066570      0.497414  \n",
       "min     -2.600000      0.000000  \n",
       "25%      0.000000      0.000000  \n",
       "50%      0.600000      1.000000  \n",
       "75%      1.500000      1.000000  \n",
       "max      6.200000      1.000000  "
      ]
     },
     "metadata": {},
     "output_type": "display_data"
    }
   ],
   "source": [
    "# Revisamos estadísticas descriptivas\n",
    "print(\"\\nEstadísticas descriptivas:\")\n",
    "display(df.describe())"
   ]
  },
  {
   "cell_type": "code",
   "execution_count": 9,
   "id": "e29b8454",
   "metadata": {},
   "outputs": [
    {
     "name": "stdout",
     "output_type": "stream",
     "text": [
      "\n",
      "Valores nulos por columna:\n",
      "Age               0\n",
      "Sex               0\n",
      "ChestPainType     0\n",
      "RestingBP         0\n",
      "Cholesterol       0\n",
      "FastingBS         0\n",
      "RestingECG        0\n",
      "MaxHR             0\n",
      "ExerciseAngina    0\n",
      "Oldpeak           0\n",
      "ST_Slope          0\n",
      "HeartDisease      0\n",
      "dtype: int64\n"
     ]
    }
   ],
   "source": [
    "# Verificamos si hay valores nulos\n",
    "print(\"\\nValores nulos por columna:\")\n",
    "print(df.isnull().sum())"
   ]
  },
  {
   "cell_type": "markdown",
   "id": "14da4976",
   "metadata": {},
   "source": [
    "## 2. Conjuntos de entrenamiento y prueba"
   ]
  },
  {
   "cell_type": "code",
   "execution_count": 10,
   "id": "cbcc2091",
   "metadata": {},
   "outputs": [
    {
     "name": "stdout",
     "output_type": "stream",
     "text": [
      "Tamaño del conjunto de entrenamiento: (734, 11)\n",
      "Tamaño del conjunto de prueba: (184, 11)\n"
     ]
    }
   ],
   "source": [
    "from sklearn.model_selection import train_test_split\n",
    "\n",
    "# Separamos variables predictoras (X) y variable objetivo (y)\n",
    "X = df.drop(\"HeartDisease\", axis=1)\n",
    "y = df[\"HeartDisease\"]\n",
    "\n",
    "# Divimos en train y test (80% - 20%), estratificando por la variable objetivo\n",
    "X_train, X_test, y_train, y_test = train_test_split(\n",
    "    X, y, test_size=0.2, random_state=42, stratify=y\n",
    ")\n",
    "\n",
    "# Verificamos tamaños\n",
    "print(\"Tamaño del conjunto de entrenamiento:\", X_train.shape)\n",
    "print(\"Tamaño del conjunto de prueba:\", X_test.shape)"
   ]
  },
  {
   "cell_type": "markdown",
   "id": "b0c5640d",
   "metadata": {},
   "source": [
    "## 3. Preprocesamiento y Pipeline"
   ]
  },
  {
   "cell_type": "code",
   "execution_count": 1,
   "id": "af9716dd",
   "metadata": {},
   "outputs": [],
   "source": [
    "# Variables categoricas\n",
    "categorical_features = [\"Sex\", \"ChestPainType\", \"RestingECG\", \"ExerciseAngina\", \"ST_Slope\"]"
   ]
  },
  {
   "cell_type": "code",
   "execution_count": 2,
   "id": "fd45b32c",
   "metadata": {},
   "outputs": [],
   "source": [
    "# Variables numéricas\n",
    "numerical_features = [\"Age\", \"RestingBP\", \"Cholesterol\", \"FastingBS\", \"MaxHR\", \"Oldpeak\"]"
   ]
  },
  {
   "cell_type": "code",
   "execution_count": 11,
   "id": "27a25245",
   "metadata": {},
   "outputs": [
    {
     "name": "stdout",
     "output_type": "stream",
     "text": [
      "Shape después del preprocesamiento - Train: (734, 15)\n",
      "Shape después del preprocesamiento - Test: (184, 15)\n"
     ]
    }
   ],
   "source": [
    "# Pipeline\n",
    "from sklearn.preprocessing import OneHotEncoder, StandardScaler\n",
    "from sklearn.compose import ColumnTransformer\n",
    "from sklearn.pipeline import Pipeline\n",
    "\n",
    "# Definimos transformadores\n",
    "categorical_transformer = OneHotEncoder(drop=\"first\", handle_unknown=\"ignore\")\n",
    "numerical_transformer = StandardScaler()\n",
    "\n",
    "# Combinamos transformadores en un ColumnTransformer\n",
    "preprocessor = ColumnTransformer(\n",
    "    transformers=[\n",
    "        (\"num\", numerical_transformer, numerical_features),\n",
    "        (\"cat\", categorical_transformer, categorical_features)\n",
    "    ]\n",
    ")\n",
    "\n",
    "# Creamos el pipeline general (por ahora solo el preprocesamiento)\n",
    "preprocessing_pipeline = Pipeline(steps=[\n",
    "    (\"preprocessor\", preprocessor)\n",
    "])\n",
    "\n",
    "# Ajustamos el pipeline al conjunto de entrenamiento\n",
    "X_train_processed = preprocessing_pipeline.fit_transform(X_train)\n",
    "X_test_processed = preprocessing_pipeline.transform(X_test)\n",
    "\n",
    "# Visualizamos las dimensiones después de transformar\n",
    "print(\"Shape después del preprocesamiento - Train:\", X_train_processed.shape)\n",
    "print(\"Shape después del preprocesamiento - Test:\", X_test_processed.shape)\n"
   ]
  },
  {
   "cell_type": "markdown",
   "id": "3ca66a86",
   "metadata": {},
   "source": [
    "## 4. Modelo Baseline (Clasificación) e hiperparámetros por defecto"
   ]
  },
  {
   "cell_type": "code",
   "execution_count": 12,
   "id": "c2a9fc3c",
   "metadata": {},
   "outputs": [
    {
     "name": "stdout",
     "output_type": "stream",
     "text": [
      "ROC AUC (modelo baseline - validación cruzada):\n",
      "Scores: [0.95938086 0.93106996 0.93275346 0.89973812 0.88803419]\n",
      "Promedio: 0.9221953184825814\n"
     ]
    }
   ],
   "source": [
    "from sklearn.ensemble import RandomForestClassifier\n",
    "from sklearn.model_selection import cross_val_score\n",
    "from sklearn.pipeline import Pipeline\n",
    "\n",
    "# Creamos el pipeline completo (preprocesamiento + modelo)\n",
    "baseline_pipeline = Pipeline(steps=[\n",
    "    (\"preprocessor\", preprocessor),\n",
    "    (\"classifier\", RandomForestClassifier(random_state=42))\n",
    "])\n",
    "\n",
    "# Realizamos la validación cruzada usando ROC AUC\n",
    "baseline_scores = cross_val_score(\n",
    "    baseline_pipeline,\n",
    "    X_train,\n",
    "    y_train,\n",
    "    cv=5,\n",
    "    scoring=\"roc_auc\"\n",
    ")\n",
    "\n",
    "# Revisamos los resultados\n",
    "print(\"ROC AUC (modelo baseline - validación cruzada):\")\n",
    "print(\"Scores:\", baseline_scores)\n",
    "print(\"Promedio:\", baseline_scores.mean())\n"
   ]
  },
  {
   "cell_type": "markdown",
   "id": "71792bc0",
   "metadata": {},
   "source": [
    "## 5. Definimos el espacio de hiperparámetros para *RandomForestClassifier*"
   ]
  },
  {
   "cell_type": "code",
   "execution_count": 13,
   "id": "9f1585c7",
   "metadata": {},
   "outputs": [],
   "source": [
    "from scipy.stats import randint\n",
    "from sklearn.model_selection import RandomizedSearchCV\n",
    "\n",
    "# Definimos el espacio de hiperparámetros\n",
    "param_distributions = {\n",
    "    \"classifier__n_estimators\": randint(100, 1000),\n",
    "    \"classifier__max_depth\": randint(5, 50),\n",
    "    \"classifier__min_samples_split\": randint(2, 10),\n",
    "    \"classifier__min_samples_leaf\": randint(1, 10),\n",
    "    \"classifier__max_features\": [\"sqrt\", \"log2\", None],\n",
    "    \"classifier__bootstrap\": [True, False]\n",
    "}\n"
   ]
  },
  {
   "cell_type": "markdown",
   "id": "d1a762c2",
   "metadata": {},
   "source": [
    "## 6. Ajuste de hiperparámetros"
   ]
  },
  {
   "cell_type": "markdown",
   "id": "86038e06",
   "metadata": {},
   "source": [
    "## 6.1.  Ajuste de hiperparámetros con búsqueda aleatoria"
   ]
  },
  {
   "cell_type": "code",
   "execution_count": 14,
   "id": "a21da6a8",
   "metadata": {},
   "outputs": [
    {
     "name": "stdout",
     "output_type": "stream",
     "text": [
      "Fitting 5 folds for each of 50 candidates, totalling 250 fits\n"
     ]
    },
    {
     "name": "stderr",
     "output_type": "stream",
     "text": [
      "c:\\Users\\LENOVO\\AppData\\Local\\Programs\\Python\\Python312\\Lib\\site-packages\\numpy\\ma\\core.py:2881: RuntimeWarning: invalid value encountered in cast\n",
      "  _data = np.array(data, dtype=dtype, copy=copy,\n"
     ]
    },
    {
     "name": "stdout",
     "output_type": "stream",
     "text": [
      "Mejores hiperparámetros encontrados:\n",
      "{'classifier__bootstrap': False, 'classifier__max_depth': 31, 'classifier__max_features': 'sqrt', 'classifier__min_samples_leaf': 5, 'classifier__min_samples_split': 2, 'classifier__n_estimators': 918}\n",
      "\n",
      "Mejor score ROC AUC (validación cruzada): 0.928915940027051\n"
     ]
    }
   ],
   "source": [
    "from sklearn.ensemble import RandomForestClassifier\n",
    "from sklearn.model_selection import RandomizedSearchCV\n",
    "\n",
    "# Definimos nuevamente el pipeline \n",
    "pipeline_random = Pipeline(steps=[\n",
    "    (\"preprocessor\", preprocessor),\n",
    "    (\"classifier\", RandomForestClassifier(random_state=42))\n",
    "])\n",
    "\n",
    "# Configuramos la búsqueda aleatoria\n",
    "random_search = RandomizedSearchCV(\n",
    "    estimator=pipeline_random,\n",
    "    param_distributions=param_distributions,\n",
    "    n_iter=50,  # número de combinaciones a probar\n",
    "    cv=5,\n",
    "    scoring=\"roc_auc\",\n",
    "    verbose=1,\n",
    "    random_state=42,\n",
    "    n_jobs=-1\n",
    ")\n",
    "\n",
    "# Ajustamos sobre el conjunto de entrenamiento\n",
    "random_search.fit(X_train, y_train)\n",
    "\n",
    "# 4. Ver mejores hiperparámetros encontrados\n",
    "print(\"Mejores hiperparámetros encontrados:\")\n",
    "print(random_search.best_params_)\n",
    "\n",
    "# Mejor score de validación cruzada\n",
    "print(\"\\nMejor score ROC AUC (validación cruzada):\", random_search.best_score_)\n"
   ]
  },
  {
   "cell_type": "markdown",
   "id": "2aefbc2a",
   "metadata": {},
   "source": [
    "## 6.2. Ajuste de hiperparámetros con Optuna"
   ]
  },
  {
   "cell_type": "code",
   "execution_count": 15,
   "id": "4031a700",
   "metadata": {},
   "outputs": [
    {
     "name": "stdout",
     "output_type": "stream",
     "text": [
      "Requirement already satisfied: optuna in c:\\users\\lenovo\\appdata\\local\\programs\\python\\python312\\lib\\site-packages (4.3.0)Note: you may need to restart the kernel to use updated packages.\n",
      "\n",
      "Requirement already satisfied: alembic>=1.5.0 in c:\\users\\lenovo\\appdata\\local\\programs\\python\\python312\\lib\\site-packages (from optuna) (1.15.2)\n",
      "Requirement already satisfied: colorlog in c:\\users\\lenovo\\appdata\\local\\programs\\python\\python312\\lib\\site-packages (from optuna) (6.9.0)\n",
      "Requirement already satisfied: numpy in c:\\users\\lenovo\\appdata\\local\\programs\\python\\python312\\lib\\site-packages (from optuna) (2.1.2)\n",
      "Requirement already satisfied: packaging>=20.0 in c:\\users\\lenovo\\appdata\\roaming\\python\\python312\\site-packages (from optuna) (24.1)\n",
      "Requirement already satisfied: sqlalchemy>=1.4.2 in c:\\users\\lenovo\\appdata\\local\\programs\\python\\python312\\lib\\site-packages (from optuna) (2.0.41)\n",
      "Requirement already satisfied: tqdm in c:\\users\\lenovo\\appdata\\local\\programs\\python\\python312\\lib\\site-packages (from optuna) (4.67.1)\n",
      "Requirement already satisfied: PyYAML in c:\\users\\lenovo\\appdata\\local\\programs\\python\\python312\\lib\\site-packages (from optuna) (6.0.2)\n",
      "Requirement already satisfied: Mako in c:\\users\\lenovo\\appdata\\local\\programs\\python\\python312\\lib\\site-packages (from alembic>=1.5.0->optuna) (1.3.10)\n",
      "Requirement already satisfied: typing-extensions>=4.12 in c:\\users\\lenovo\\appdata\\local\\programs\\python\\python312\\lib\\site-packages (from alembic>=1.5.0->optuna) (4.13.2)\n",
      "Requirement already satisfied: greenlet>=1 in c:\\users\\lenovo\\appdata\\local\\programs\\python\\python312\\lib\\site-packages (from sqlalchemy>=1.4.2->optuna) (3.2.2)\n",
      "Requirement already satisfied: colorama in c:\\users\\lenovo\\appdata\\roaming\\python\\python312\\site-packages (from colorlog->optuna) (0.4.6)\n",
      "Requirement already satisfied: MarkupSafe>=0.9.2 in c:\\users\\lenovo\\appdata\\local\\programs\\python\\python312\\lib\\site-packages (from Mako->alembic>=1.5.0->optuna) (3.0.2)\n"
     ]
    },
    {
     "name": "stderr",
     "output_type": "stream",
     "text": [
      "\n",
      "[notice] A new release of pip is available: 24.0 -> 25.1.1\n",
      "[notice] To update, run: python.exe -m pip install --upgrade pip\n"
     ]
    }
   ],
   "source": [
    "pip install optuna"
   ]
  },
  {
   "cell_type": "code",
   "execution_count": 16,
   "id": "2f878094",
   "metadata": {},
   "outputs": [
    {
     "name": "stderr",
     "output_type": "stream",
     "text": [
      "c:\\Users\\LENOVO\\AppData\\Local\\Programs\\Python\\Python312\\Lib\\site-packages\\tqdm\\auto.py:21: TqdmWarning: IProgress not found. Please update jupyter and ipywidgets. See https://ipywidgets.readthedocs.io/en/stable/user_install.html\n",
      "  from .autonotebook import tqdm as notebook_tqdm\n",
      "[I 2025-05-19 11:44:21,401] A new study created in memory with name: no-name-3e043bde-5dfe-4e9b-943b-2db0e8785ef5\n",
      "[I 2025-05-19 11:44:28,458] Trial 0 finished with value: 0.9155933316908926 and parameters: {'n_estimators': 654, 'max_depth': 15, 'min_samples_split': 7, 'min_samples_leaf': 4, 'max_features': None, 'bootstrap': True}. Best is trial 0 with value: 0.9155933316908926.\n",
      "[I 2025-05-19 11:44:31,517] Trial 1 finished with value: 0.8733383238261286 and parameters: {'n_estimators': 522, 'max_depth': 17, 'min_samples_split': 10, 'min_samples_leaf': 5, 'max_features': None, 'bootstrap': False}. Best is trial 0 with value: 0.9155933316908926.\n",
      "[I 2025-05-19 11:44:36,557] Trial 2 finished with value: 0.9152590178064433 and parameters: {'n_estimators': 940, 'max_depth': 49, 'min_samples_split': 4, 'min_samples_leaf': 8, 'max_features': None, 'bootstrap': True}. Best is trial 0 with value: 0.9155933316908926.\n",
      "[I 2025-05-19 11:44:38,091] Trial 3 finished with value: 0.9276028578467603 and parameters: {'n_estimators': 469, 'max_depth': 39, 'min_samples_split': 3, 'min_samples_leaf': 7, 'max_features': 'log2', 'bootstrap': False}. Best is trial 3 with value: 0.9276028578467603.\n",
      "[I 2025-05-19 11:44:39,594] Trial 4 finished with value: 0.9259142744237595 and parameters: {'n_estimators': 390, 'max_depth': 11, 'min_samples_split': 4, 'min_samples_leaf': 10, 'max_features': 'sqrt', 'bootstrap': True}. Best is trial 3 with value: 0.9276028578467603.\n",
      "[I 2025-05-19 11:44:40,808] Trial 5 finished with value: 0.9274111836171457 and parameters: {'n_estimators': 361, 'max_depth': 21, 'min_samples_split': 4, 'min_samples_leaf': 9, 'max_features': 'sqrt', 'bootstrap': False}. Best is trial 3 with value: 0.9276028578467603.\n",
      "[I 2025-05-19 11:44:42,340] Trial 6 finished with value: 0.926288147263757 and parameters: {'n_estimators': 354, 'max_depth': 41, 'min_samples_split': 6, 'min_samples_leaf': 7, 'max_features': 'log2', 'bootstrap': True}. Best is trial 3 with value: 0.9276028578467603.\n",
      "[I 2025-05-19 11:44:44,082] Trial 7 finished with value: 0.9260239669995768 and parameters: {'n_estimators': 441, 'max_depth': 31, 'min_samples_split': 10, 'min_samples_leaf': 7, 'max_features': 'sqrt', 'bootstrap': True}. Best is trial 3 with value: 0.9276028578467603.\n",
      "[I 2025-05-19 11:44:45,579] Trial 8 finished with value: 0.9157958853351807 and parameters: {'n_estimators': 273, 'max_depth': 8, 'min_samples_split': 7, 'min_samples_leaf': 7, 'max_features': None, 'bootstrap': True}. Best is trial 3 with value: 0.9276028578467603.\n",
      "[I 2025-05-19 11:44:49,040] Trial 9 finished with value: 0.915744801219056 and parameters: {'n_estimators': 620, 'max_depth': 8, 'min_samples_split': 7, 'min_samples_leaf': 4, 'max_features': None, 'bootstrap': True}. Best is trial 3 with value: 0.9276028578467603.\n",
      "[I 2025-05-19 11:44:52,176] Trial 10 finished with value: 0.9200633252123767 and parameters: {'n_estimators': 827, 'max_depth': 34, 'min_samples_split': 2, 'min_samples_leaf': 1, 'max_features': 'log2', 'bootstrap': False}. Best is trial 3 with value: 0.9276028578467603.\n",
      "[I 2025-05-19 11:44:52,657] Trial 11 finished with value: 0.9272585208628568 and parameters: {'n_estimators': 132, 'max_depth': 23, 'min_samples_split': 2, 'min_samples_leaf': 10, 'max_features': 'sqrt', 'bootstrap': False}. Best is trial 3 with value: 0.9276028578467603.\n",
      "[I 2025-05-19 11:44:53,371] Trial 12 finished with value: 0.9275981130181673 and parameters: {'n_estimators': 214, 'max_depth': 24, 'min_samples_split': 4, 'min_samples_leaf': 9, 'max_features': 'log2', 'bootstrap': False}. Best is trial 3 with value: 0.9276028578467603.\n",
      "[I 2025-05-19 11:44:53,770] Trial 13 finished with value: 0.9275606036039641 and parameters: {'n_estimators': 103, 'max_depth': 39, 'min_samples_split': 3, 'min_samples_leaf': 8, 'max_features': 'log2', 'bootstrap': False}. Best is trial 3 with value: 0.9276028578467603.\n",
      "[I 2025-05-19 11:44:54,545] Trial 14 finished with value: 0.9283475151767833 and parameters: {'n_estimators': 221, 'max_depth': 28, 'min_samples_split': 5, 'min_samples_leaf': 6, 'max_features': 'log2', 'bootstrap': False}. Best is trial 14 with value: 0.9283475151767833.\n",
      "[I 2025-05-19 11:44:56,927] Trial 15 finished with value: 0.9287672219379536 and parameters: {'n_estimators': 724, 'max_depth': 47, 'min_samples_split': 5, 'min_samples_leaf': 5, 'max_features': 'log2', 'bootstrap': False}. Best is trial 15 with value: 0.9287672219379536.\n",
      "[I 2025-05-19 11:44:59,482] Trial 16 finished with value: 0.9256495186034479 and parameters: {'n_estimators': 725, 'max_depth': 50, 'min_samples_split': 6, 'min_samples_leaf': 2, 'max_features': 'log2', 'bootstrap': False}. Best is trial 15 with value: 0.9287672219379536.\n",
      "[I 2025-05-19 11:45:02,239] Trial 17 finished with value: 0.9286154997266107 and parameters: {'n_estimators': 819, 'max_depth': 44, 'min_samples_split': 6, 'min_samples_leaf': 5, 'max_features': 'log2', 'bootstrap': False}. Best is trial 15 with value: 0.9287672219379536.\n",
      "[I 2025-05-19 11:45:05,608] Trial 18 finished with value: 0.9275169034518628 and parameters: {'n_estimators': 966, 'max_depth': 45, 'min_samples_split': 8, 'min_samples_leaf': 3, 'max_features': 'log2', 'bootstrap': False}. Best is trial 15 with value: 0.9287672219379536.\n",
      "[I 2025-05-19 11:45:08,363] Trial 19 finished with value: 0.9286913608322823 and parameters: {'n_estimators': 828, 'max_depth': 44, 'min_samples_split': 8, 'min_samples_leaf': 5, 'max_features': 'log2', 'bootstrap': False}. Best is trial 15 with value: 0.9287672219379536.\n",
      "[I 2025-05-19 11:45:11,242] Trial 20 finished with value: 0.928011544813713 and parameters: {'n_estimators': 830, 'max_depth': 34, 'min_samples_split': 9, 'min_samples_leaf': 3, 'max_features': 'log2', 'bootstrap': False}. Best is trial 15 with value: 0.9287672219379536.\n",
      "[I 2025-05-19 11:45:13,818] Trial 21 finished with value: 0.9286167631425084 and parameters: {'n_estimators': 791, 'max_depth': 44, 'min_samples_split': 8, 'min_samples_leaf': 5, 'max_features': 'log2', 'bootstrap': False}. Best is trial 15 with value: 0.9287672219379536.\n",
      "[I 2025-05-19 11:45:16,170] Trial 22 finished with value: 0.9286550025303413 and parameters: {'n_estimators': 701, 'max_depth': 46, 'min_samples_split': 8, 'min_samples_leaf': 4, 'max_features': 'log2', 'bootstrap': False}. Best is trial 15 with value: 0.9287672219379536.\n",
      "[I 2025-05-19 11:45:18,495] Trial 23 finished with value: 0.9285779903124076 and parameters: {'n_estimators': 688, 'max_depth': 47, 'min_samples_split': 8, 'min_samples_leaf': 4, 'max_features': 'log2', 'bootstrap': False}. Best is trial 15 with value: 0.9287672219379536.\n",
      "[I 2025-05-19 11:45:20,368] Trial 24 finished with value: 0.9288860251461877 and parameters: {'n_estimators': 570, 'max_depth': 36, 'min_samples_split': 9, 'min_samples_leaf': 6, 'max_features': 'log2', 'bootstrap': False}. Best is trial 24 with value: 0.9288860251461877.\n",
      "[I 2025-05-19 11:45:22,299] Trial 25 finished with value: 0.9288854495900566 and parameters: {'n_estimators': 588, 'max_depth': 34, 'min_samples_split': 9, 'min_samples_leaf': 6, 'max_features': 'log2', 'bootstrap': False}. Best is trial 24 with value: 0.9288860251461877.\n",
      "[I 2025-05-19 11:45:24,619] Trial 26 finished with value: 0.9286972427351831 and parameters: {'n_estimators': 573, 'max_depth': 35, 'min_samples_split': 9, 'min_samples_leaf': 6, 'max_features': 'log2', 'bootstrap': False}. Best is trial 24 with value: 0.9288860251461877.\n",
      "[I 2025-05-19 11:45:27,157] Trial 27 finished with value: 0.9288832596691675 and parameters: {'n_estimators': 578, 'max_depth': 29, 'min_samples_split': 9, 'min_samples_leaf': 6, 'max_features': 'log2', 'bootstrap': False}. Best is trial 24 with value: 0.9288860251461877.\n",
      "[I 2025-05-19 11:45:29,646] Trial 28 finished with value: 0.9288491895537966 and parameters: {'n_estimators': 550, 'max_depth': 29, 'min_samples_split': 9, 'min_samples_leaf': 6, 'max_features': 'log2', 'bootstrap': False}. Best is trial 24 with value: 0.9288860251461877.\n",
      "[I 2025-05-19 11:45:31,612] Trial 29 finished with value: 0.9281274000515193 and parameters: {'n_estimators': 618, 'max_depth': 32, 'min_samples_split': 10, 'min_samples_leaf': 8, 'max_features': 'sqrt', 'bootstrap': False}. Best is trial 24 with value: 0.9288860251461877.\n",
      "[I 2025-05-19 11:45:34,465] Trial 30 finished with value: 0.879052662684099 and parameters: {'n_estimators': 490, 'max_depth': 37, 'min_samples_split': 9, 'min_samples_leaf': 6, 'max_features': None, 'bootstrap': False}. Best is trial 24 with value: 0.9288860251461877.\n",
      "[I 2025-05-19 11:45:36,315] Trial 31 finished with value: 0.9288491895537965 and parameters: {'n_estimators': 566, 'max_depth': 28, 'min_samples_split': 9, 'min_samples_leaf': 6, 'max_features': 'log2', 'bootstrap': False}. Best is trial 24 with value: 0.9288860251461877.\n",
      "[I 2025-05-19 11:45:38,066] Trial 32 finished with value: 0.9288480384415342 and parameters: {'n_estimators': 537, 'max_depth': 30, 'min_samples_split': 10, 'min_samples_leaf': 6, 'max_features': 'log2', 'bootstrap': False}. Best is trial 24 with value: 0.9288860251461877.\n",
      "[I 2025-05-19 11:45:40,052] Trial 33 finished with value: 0.9285029012942291 and parameters: {'n_estimators': 615, 'max_depth': 19, 'min_samples_split': 9, 'min_samples_leaf': 7, 'max_features': 'log2', 'bootstrap': False}. Best is trial 24 with value: 0.9288860251461877.\n",
      "[I 2025-05-19 11:45:41,498] Trial 34 finished with value: 0.9280520021983436 and parameters: {'n_estimators': 444, 'max_depth': 25, 'min_samples_split': 7, 'min_samples_leaf': 8, 'max_features': 'log2', 'bootstrap': False}. Best is trial 24 with value: 0.9288860251461877.\n",
      "[I 2025-05-19 11:45:44,289] Trial 35 finished with value: 0.8791275972847789 and parameters: {'n_estimators': 495, 'max_depth': 14, 'min_samples_split': 10, 'min_samples_leaf': 6, 'max_features': None, 'bootstrap': False}. Best is trial 24 with value: 0.9288860251461877.\n",
      "[I 2025-05-19 11:45:46,816] Trial 36 finished with value: 0.9256437490041826 and parameters: {'n_estimators': 650, 'max_depth': 40, 'min_samples_split': 9, 'min_samples_leaf': 7, 'max_features': 'log2', 'bootstrap': True}. Best is trial 24 with value: 0.9288860251461877.\n",
      "[I 2025-05-19 11:45:48,165] Trial 37 finished with value: 0.928392436630919 and parameters: {'n_estimators': 403, 'max_depth': 26, 'min_samples_split': 10, 'min_samples_leaf': 5, 'max_features': 'log2', 'bootstrap': False}. Best is trial 24 with value: 0.9288860251461877.\n",
      "[I 2025-05-19 11:45:50,325] Trial 38 finished with value: 0.928272089247699 and parameters: {'n_estimators': 531, 'max_depth': 36, 'min_samples_split': 8, 'min_samples_leaf': 4, 'max_features': 'sqrt', 'bootstrap': True}. Best is trial 24 with value: 0.9288860251461877.\n",
      "[I 2025-05-19 11:45:53,618] Trial 39 finished with value: 0.8783485469664332 and parameters: {'n_estimators': 573, 'max_depth': 30, 'min_samples_split': 9, 'min_samples_leaf': 8, 'max_features': None, 'bootstrap': False}. Best is trial 24 with value: 0.9288860251461877.\n",
      "[I 2025-05-19 11:45:56,536] Trial 40 finished with value: 0.9263554732931427 and parameters: {'n_estimators': 761, 'max_depth': 21, 'min_samples_split': 7, 'min_samples_leaf': 7, 'max_features': 'log2', 'bootstrap': True}. Best is trial 24 with value: 0.9288860251461877.\n",
      "[I 2025-05-19 11:45:58,504] Trial 41 finished with value: 0.9288083250684875 and parameters: {'n_estimators': 581, 'max_depth': 27, 'min_samples_split': 9, 'min_samples_leaf': 6, 'max_features': 'log2', 'bootstrap': False}. Best is trial 24 with value: 0.9288860251461877.\n",
      "[I 2025-05-19 11:46:00,740] Trial 42 finished with value: 0.9290338167302936 and parameters: {'n_estimators': 658, 'max_depth': 32, 'min_samples_split': 10, 'min_samples_leaf': 6, 'max_features': 'log2', 'bootstrap': False}. Best is trial 42 with value: 0.9290338167302936.\n",
      "[I 2025-05-19 11:46:02,924] Trial 43 finished with value: 0.9289552041855564 and parameters: {'n_estimators': 665, 'max_depth': 32, 'min_samples_split': 10, 'min_samples_leaf': 5, 'max_features': 'log2', 'bootstrap': False}. Best is trial 42 with value: 0.9290338167302936.\n",
      "[I 2025-05-19 11:46:06,073] Trial 44 finished with value: 0.9289552041855564 and parameters: {'n_estimators': 665, 'max_depth': 32, 'min_samples_split': 10, 'min_samples_leaf': 5, 'max_features': 'log2', 'bootstrap': False}. Best is trial 42 with value: 0.9290338167302936.\n",
      "[I 2025-05-19 11:46:09,430] Trial 45 finished with value: 0.9295925834679222 and parameters: {'n_estimators': 903, 'max_depth': 32, 'min_samples_split': 10, 'min_samples_leaf': 4, 'max_features': 'sqrt', 'bootstrap': False}. Best is trial 45 with value: 0.9295925834679222.\n",
      "[I 2025-05-19 11:46:12,758] Trial 46 finished with value: 0.9286126359839099 and parameters: {'n_estimators': 919, 'max_depth': 32, 'min_samples_split': 10, 'min_samples_leaf': 3, 'max_features': 'sqrt', 'bootstrap': False}. Best is trial 45 with value: 0.9295925834679222.\n",
      "[I 2025-05-19 11:46:16,779] Trial 47 finished with value: 0.927782529625348 and parameters: {'n_estimators': 923, 'max_depth': 38, 'min_samples_split': 10, 'min_samples_leaf': 4, 'max_features': 'sqrt', 'bootstrap': True}. Best is trial 45 with value: 0.9295925834679222.\n",
      "[I 2025-05-19 11:46:19,982] Trial 48 finished with value: 0.929066047873636 and parameters: {'n_estimators': 876, 'max_depth': 41, 'min_samples_split': 10, 'min_samples_leaf': 5, 'max_features': 'sqrt', 'bootstrap': False}. Best is trial 45 with value: 0.9295925834679222.\n",
      "[I 2025-05-19 11:46:23,180] Trial 49 finished with value: 0.9289531265683028 and parameters: {'n_estimators': 879, 'max_depth': 33, 'min_samples_split': 10, 'min_samples_leaf': 5, 'max_features': 'sqrt', 'bootstrap': False}. Best is trial 45 with value: 0.9295925834679222.\n"
     ]
    },
    {
     "name": "stdout",
     "output_type": "stream",
     "text": [
      "Mejores hiperparámetros encontrados por Optuna:\n",
      "{'n_estimators': 903, 'max_depth': 32, 'min_samples_split': 10, 'min_samples_leaf': 4, 'max_features': 'sqrt', 'bootstrap': False}\n",
      "\n",
      "Mejor ROC AUC promedio (validación cruzada): 0.9295925834679222\n"
     ]
    }
   ],
   "source": [
    "import optuna\n",
    "from sklearn.model_selection import cross_val_score\n",
    "from sklearn.ensemble import RandomForestClassifier\n",
    "\n",
    "def objective(trial):\n",
    "    # Sugerimos hiperparámetros\n",
    "    n_estimators = trial.suggest_int(\"n_estimators\", 100, 1000)\n",
    "    max_depth = trial.suggest_int(\"max_depth\", 5, 50)\n",
    "    min_samples_split = trial.suggest_int(\"min_samples_split\", 2, 10)\n",
    "    min_samples_leaf = trial.suggest_int(\"min_samples_leaf\", 1, 10)\n",
    "    max_features = trial.suggest_categorical(\"max_features\", [\"sqrt\", \"log2\", None])\n",
    "    bootstrap = trial.suggest_categorical(\"bootstrap\", [True, False])\n",
    "\n",
    "    # Creamos el pipeline con los hiperparámetros sugeridos\n",
    "    model = Pipeline(steps=[\n",
    "        (\"preprocessor\", preprocessor),\n",
    "        (\"classifier\", RandomForestClassifier(\n",
    "            n_estimators=n_estimators,\n",
    "            max_depth=max_depth,\n",
    "            min_samples_split=min_samples_split,\n",
    "            min_samples_leaf=min_samples_leaf,\n",
    "            max_features=max_features,\n",
    "            bootstrap=bootstrap,\n",
    "            random_state=42\n",
    "        ))\n",
    "    ])\n",
    "\n",
    "    # Realizamos la validación cruzada (ROC AUC)\n",
    "    score = cross_val_score(model, X_train, y_train, cv=5, scoring=\"roc_auc\", n_jobs=-1)\n",
    "    return score.mean()\n",
    "\n",
    "# Ejecutamos la optimización\n",
    "study = optuna.create_study(direction=\"maximize\")\n",
    "study.optimize(objective, n_trials=50)\n",
    "\n",
    "# Mostramos los mejores parámetros\n",
    "print(\"Mejores hiperparámetros encontrados por Optuna:\")\n",
    "print(study.best_params)\n",
    "\n",
    "print(\"\\nMejor ROC AUC promedio (validación cruzada):\", study.best_value)\n"
   ]
  },
  {
   "cell_type": "markdown",
   "id": "f76bf882",
   "metadata": {},
   "source": [
    "## 7. Comparación de los modelos con validación cruzada"
   ]
  },
  {
   "cell_type": "code",
   "execution_count": 17,
   "id": "6a0498ff",
   "metadata": {},
   "outputs": [
    {
     "name": "stdout",
     "output_type": "stream",
     "text": [
      "ROC AUC promedio en entrenamiento (validación cruzada):\n",
      "Baseline:       0.9222\n",
      "Random Search:  0.9289\n",
      "Optuna:         0.9296\n"
     ]
    }
   ],
   "source": [
    "from sklearn.base import clone\n",
    "\n",
    "# Modelo baseline\n",
    "baseline_model = Pipeline(steps=[\n",
    "    (\"preprocessor\", preprocessor),\n",
    "    (\"classifier\", RandomForestClassifier(random_state=42))\n",
    "])\n",
    "baseline_scores = cross_val_score(baseline_model, X_train, y_train, cv=5, scoring=\"roc_auc\")\n",
    "\n",
    "# Mejor modelo de RandomizedSearchCV\n",
    "best_random_model = random_search.best_estimator_\n",
    "random_search_scores = cross_val_score(best_random_model, X_train, y_train, cv=5, scoring=\"roc_auc\")\n",
    "\n",
    "# Mejor modelo de Optuna\n",
    "best_optuna_model = Pipeline(steps=[\n",
    "    (\"preprocessor\", preprocessor),\n",
    "    (\"classifier\", RandomForestClassifier(\n",
    "        **study.best_params, random_state=42\n",
    "    ))\n",
    "])\n",
    "optuna_scores = cross_val_score(best_optuna_model, X_train, y_train, cv=5, scoring=\"roc_auc\")\n",
    "\n",
    "# Mostrar resultados\n",
    "print(\"ROC AUC promedio en entrenamiento (validación cruzada):\")\n",
    "print(f\"Baseline:       {baseline_scores.mean():.4f}\")\n",
    "print(f\"Random Search:  {random_search_scores.mean():.4f}\")\n",
    "print(f\"Optuna:         {optuna_scores.mean():.4f}\")\n"
   ]
  },
  {
   "cell_type": "markdown",
   "id": "d29c773e",
   "metadata": {},
   "source": [
    "## 8. Evaluación en el conjunto de prueba"
   ]
  },
  {
   "cell_type": "code",
   "execution_count": 18,
   "id": "39e5fe74",
   "metadata": {},
   "outputs": [
    {
     "name": "stdout",
     "output_type": "stream",
     "text": [
      "ROC AUC en conjunto de prueba:\n",
      "Baseline:       0.9314\n",
      "Random Search:  0.9272\n",
      "Optuna:         0.9289\n"
     ]
    }
   ],
   "source": [
    "from sklearn.metrics import roc_auc_score\n",
    "\n",
    "# Entrenamos los tres modelos completos sobre todo X_train\n",
    "baseline_model.fit(X_train, y_train)\n",
    "best_random_model.fit(X_train, y_train)\n",
    "best_optuna_model.fit(X_train, y_train)\n",
    "\n",
    "# Predecimos probabilidades para calcular ROC AUC\n",
    "baseline_proba = baseline_model.predict_proba(X_test)[:, 1]\n",
    "random_proba = best_random_model.predict_proba(X_test)[:, 1]\n",
    "optuna_proba = best_optuna_model.predict_proba(X_test)[:, 1]\n",
    "\n",
    "# Calculamos ROC AUC en el conjunto de prueba\n",
    "baseline_auc = roc_auc_score(y_test, baseline_proba)\n",
    "random_auc = roc_auc_score(y_test, random_proba)\n",
    "optuna_auc = roc_auc_score(y_test, optuna_proba)\n",
    "\n",
    "# Verificamos los resultados\n",
    "print(\"ROC AUC en conjunto de prueba:\")\n",
    "print(f\"Baseline:       {baseline_auc:.4f}\")\n",
    "print(f\"Random Search:  {random_auc:.4f}\")\n",
    "print(f\"Optuna:         {optuna_auc:.4f}\")\n"
   ]
  },
  {
   "cell_type": "markdown",
   "id": "663a0e4e",
   "metadata": {},
   "source": [
    "## 9. Conceptualización y conclusiones"
   ]
  },
  {
   "cell_type": "markdown",
   "id": "fced9001",
   "metadata": {},
   "source": [
    "**Conceptualización:**\n",
    "\n",
    "Este trabajo tuvo como objetivo aplicar técnicas de ajuste de hiperparámetros para mejorar el desempeño de un modelo de clasificación binaria, utilizando el dataset \"Heart Disease UCI\". Se trabajó bajo el enfoque de aprendizaje supervisado, empleando un modelo de bosque aleatorio (RandomForestClassifier) como clasificador base.\n",
    "Se seleccionó un dataset cn características numéricas y una variable onjetivo binaria, para después preparar el conjunto de datos, con entrenamiento y prueba, luego implementando un pipeline de procesacimiento para codificar las variables categoricas. Entrenamos un modelo baseline con hiperparámetros por defecto. Realizamos:\n",
    "- Optimización del modelo mediante una búsqueda aleatoria con *RandomizedSearchCV* y optimización con *Optuna*, usando validación cruzada con ROC y AUC.\n",
    "\n",
    "Finalmente comparamos el desempeño de los tres modelos (baseline, Random Search y Optuna).\n"
   ]
  },
  {
   "cell_type": "markdown",
   "id": "ba3f04ae",
   "metadata": {},
   "source": [
    "**Conclusiones:**\n",
    "\n",
    "- El modelo baseline obtuvo un rendimiento más eficiente tanto en entrenamiento como en prueba, con un ROC AUC en test de 0.9314.\n",
    "\n",
    "- La búsqueda aleatoria y la optimización bayesiana dieron como resultado leves mejorías en el entrenamiento, aunque no superaron significativamente al baseline en el conjunto de prueba.\n",
    "\n",
    "- Esto sugiere que el modelo con hiperparámetros por defecto ya está bien ajustado al problema, y que las técnicas de ajuste no necesariamente garantizan mejoras sustanciales cuando el modelo base es fuerte.\n",
    "\n",
    "- La optimización bayesiana (Optuna) resultó ser una herramienta muy útil para mejorar el modelo, ya que busca los mejores hiperparámetros de manera más ordenada y rápida, sin necesidad de probar todas las combinaciones posibles."
   ]
  }
 ],
 "metadata": {
  "kernelspec": {
   "display_name": "Python 3",
   "language": "python",
   "name": "python3"
  },
  "language_info": {
   "codemirror_mode": {
    "name": "ipython",
    "version": 3
   },
   "file_extension": ".py",
   "mimetype": "text/x-python",
   "name": "python",
   "nbconvert_exporter": "python",
   "pygments_lexer": "ipython3",
   "version": "3.12.4"
  }
 },
 "nbformat": 4,
 "nbformat_minor": 5
}
